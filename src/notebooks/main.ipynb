{
 "cells": [
  {
   "cell_type": "code",
   "execution_count": 8,
   "metadata": {},
   "outputs": [],
   "source": [
    "import json\n",
    "import requests\n",
    "import pandas as pd\n",
    "import fake_useragent\n",
    "import numpy as np\n",
    "from bs4 import BeautifulSoup"
   ]
  },
  {
   "attachments": {},
   "cell_type": "markdown",
   "metadata": {},
   "source": [
    "## Загрузка данных"
   ]
  },
  {
   "cell_type": "code",
   "execution_count": 9,
   "metadata": {},
   "outputs": [],
   "source": [
    "\n",
    "def get_count_vacancies(job_title: str) -> dict[str, int]:\n",
    "    pass"
   ]
  },
  {
   "cell_type": "code",
   "execution_count": 138,
   "metadata": {},
   "outputs": [],
   "source": [
    "url = \"https://api.hh.ru/vacancies?clusters=true&only_with_salary=true&enable_snippets=true&st=searchVacancy' \\\n",
    "          '&text=менеджер по работе с клиентами&search_field=name&per_page=100&area=4170\"\n",
    "user_agent = fake_useragent.UserAgent()\n",
    "data = requests.get(\n",
    "    url=url,\n",
    "    headers={\"user_agent\": user_agent.random}\n",
    ").json()"
   ]
  },
  {
   "cell_type": "code",
   "execution_count": 158,
   "metadata": {},
   "outputs": [],
   "source": [
    "def get_all_regions() -> np.array:\n",
    "    user_agent = fake_useragent.UserAgent()\n",
    "    regions = requests.get(\n",
    "        url=\"https://api.hh.ru/areas\",\n",
    "        headers={\"user_agent\": user_agent.random}\n",
    "    ).json()\n",
    "    area_id = np.array([])\n",
    "    for region in regions[0][\"areas\"]:\n",
    "        area_id = np.append(area_id, int(region[\"id\"]))\n",
    "    return area_id"
   ]
  },
  {
   "cell_type": "code",
   "execution_count": null,
   "metadata": {},
   "outputs": [],
   "source": []
  }
 ],
 "metadata": {
  "kernelspec": {
   "display_name": "base",
   "language": "python",
   "name": "python3"
  },
  "language_info": {
   "codemirror_mode": {
    "name": "ipython",
    "version": 3
   },
   "file_extension": ".py",
   "mimetype": "text/x-python",
   "name": "python",
   "nbconvert_exporter": "python",
   "pygments_lexer": "ipython3",
   "version": "3.10.8"
  },
  "orig_nbformat": 4
 },
 "nbformat": 4,
 "nbformat_minor": 2
}
