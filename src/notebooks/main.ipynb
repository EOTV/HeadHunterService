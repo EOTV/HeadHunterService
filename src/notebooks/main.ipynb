{
 "cells": [
  {
   "cell_type": "code",
   "execution_count": 9,
   "metadata": {},
   "outputs": [],
   "source": [
    "import requests\n",
    "import fake_useragent\n",
    "from typing import List\n",
    "import pandas as pd\n",
    "import  numpy as np\n",
    "\n",
    "from selenium import webdriver\n",
    "from selenium.webdriver.support.ui import WebDriverWait\n",
    "from selenium.webdriver.support import expected_conditions as EC\n",
    "from selenium.webdriver.common.by import By\n",
    "from selenium.webdriver.chrome.service import Service\n",
    "from webdriver_manager.chrome import ChromeDriverManager\n",
    "\n",
    "import re"
   ]
  },
  {
   "attachments": {},
   "cell_type": "markdown",
   "metadata": {},
   "source": [
    "## Загрузка данных"
   ]
  },
  {
   "cell_type": "code",
   "execution_count": 3,
   "metadata": {},
   "outputs": [],
   "source": [
    "def get_all_regions() -> List[str]:\n",
    "    user_agent = fake_useragent.UserAgent()\n",
    "    regions = requests.get(\n",
    "        url=\"https://api.hh.ru/areas\",\n",
    "        headers={\"user_agent\": user_agent.random}\n",
    "    ).json()\n",
    "    return [str(region[\"id\"]) for region in regions[0][\"areas\"]]"
   ]
  },
  {
   "cell_type": "code",
   "execution_count": 4,
   "metadata": {},
   "outputs": [],
   "source": [
    "def get_count_vacancies(job_title: str, regions: List[str]) -> dict[str, dict[str, int]]:\n",
    "    user_agent = fake_useragent.UserAgent()\n",
    "    mean_salary_by_region = []\n",
    "    result_row = {}\n",
    "    for region in regions:\n",
    "        url = f\"https://api.hh.ru/vacancies?clusters=true&only_with_salary=true&enable_snippets=true&st=searchVacancy' \\\n",
    "            '&text={job_title}&search_field=name&area={region}\"\n",
    "        vacancies = requests.get(\n",
    "            url=url,\n",
    "            headers={\"user_agent\": user_agent.random}                    \n",
    "        ).json()\n",
    "        if \"items\" in vacancies.keys():\n",
    "            for vacancy in vacancies[\"items\"]:\n",
    "                if vacancy[\"salary\"][\"from\"] is None:\n",
    "                    continue\n",
    "                mean_salary_by_region.append(vacancy[\"salary\"][\"from\"])\n",
    "        else:\n",
    "            continue\n",
    "    result_row[job_title] = {\n",
    "        \"Средняя зарплата.\": int(sum(mean_salary_by_region) / len(mean_salary_by_region)),\n",
    "        \"Количество вакансий в России.\": len(mean_salary_by_region) * 43\n",
    "    }\n",
    "    return result_row"
   ]
  },
  {
   "cell_type": "code",
   "execution_count": 5,
   "metadata": {},
   "outputs": [],
   "source": [
    "profs = pd.read_csv(\"../repositories/proffesions.csv\")"
   ]
  },
  {
   "cell_type": "code",
   "execution_count": 32,
   "metadata": {},
   "outputs": [],
   "source": [
    "options = webdriver.Firefox()\n",
    "driver = webdriver.Firefox(executable_path='geckodriver')\n",
    "\n",
    "def get_count_vacancies(job_title: str):\n",
    "    URL = fr'https://hh.ru/search/vacancy?text={job_title}'\n",
    "\n",
    "    #service = Service(executable_path='chromedriver')\n",
    "    #driver = webdriver.Chrome(service=service)\n",
    "\n",
    "    driver.get(URL)\n",
    "\n",
    "    el = driver.find_element(By.XPATH, \"//h1[@data-qa='bloko-header-3']\")\n",
    "    return int(''.join(re.findall(r'\\d+', el.text)))"
   ]
  },
  {
   "cell_type": "code",
   "execution_count": 33,
   "metadata": {},
   "outputs": [],
   "source": [
    "profs = pd.read_csv('../repositories/proffesions.csv')"
   ]
  },
  {
   "cell_type": "code",
   "execution_count": 34,
   "metadata": {},
   "outputs": [
    {
     "name": "stdout",
     "output_type": "stream",
     "text": [
      "608\n",
      "130\n"
     ]
    }
   ],
   "source": [
    "for prof in profs[:2][\"prof_name\"].values:\n",
    "    print(get_count_vacancies(job_title=prof))"
   ]
  },
  {
   "cell_type": "code",
   "execution_count": null,
   "metadata": {},
   "outputs": [],
   "source": []
  }
 ],
 "metadata": {
  "kernelspec": {
   "display_name": "base",
   "language": "python",
   "name": "python3"
  },
  "language_info": {
   "codemirror_mode": {
    "name": "ipython",
    "version": 3
   },
   "file_extension": ".py",
   "mimetype": "text/x-python",
   "name": "python",
   "nbconvert_exporter": "python",
   "pygments_lexer": "ipython3",
   "version": "3.10.8"
  },
  "orig_nbformat": 4
 },
 "nbformat": 4,
 "nbformat_minor": 2
}
