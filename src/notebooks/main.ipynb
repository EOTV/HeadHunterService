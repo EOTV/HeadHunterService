{
 "cells": [
  {
   "cell_type": "code",
   "execution_count": 1,
   "metadata": {},
   "outputs": [],
   "source": [
    "import requests\n",
    "import fake_useragent\n",
    "from typing import List"
   ]
  },
  {
   "attachments": {},
   "cell_type": "markdown",
   "metadata": {},
   "source": [
    "## Загрузка данных"
   ]
  },
  {
   "cell_type": "code",
   "execution_count": 2,
   "metadata": {},
   "outputs": [],
   "source": [
    "def get_all_regions() -> List[str]:\n",
    "    user_agent = fake_useragent.UserAgent()\n",
    "    regions = requests.get(\n",
    "        url=\"https://api.hh.ru/areas\",\n",
    "        headers={\"user_agent\": user_agent.random}\n",
    "    ).json()\n",
    "    return [str(region[\"id\"]) for region in regions[0][\"areas\"]]"
   ]
  },
  {
   "cell_type": "code",
   "execution_count": 21,
   "metadata": {},
   "outputs": [],
   "source": [
    "def get_count_vacancies(job_title: str, regions: List[str]) -> dict[str, dict[str, int]]:\n",
    "    user_agent = fake_useragent.UserAgent()\n",
    "    mean_salary_by_region = []\n",
    "    result_row = {}\n",
    "    for region in get_all_regions():\n",
    "        url = f\"https://api.hh.ru/vacancies?clusters=true&only_with_salary=true&enable_snippets=true&st=searchVacancy' \\\n",
    "            '&text={job_title}&search_field=name&per_page=100&area={region}\"\n",
    "        vacancies = requests.get(\n",
    "            url=url,\n",
    "            headers={\"user_agent\": user_agent.random}                    \n",
    "        ).json()\n",
    "        for vacancy in vacancies[\"items\"]:\n",
    "            if vacancy[\"salary\"][\"from\"] is None:\n",
    "                continue\n",
    "            mean_salary_by_region.append(vacancy[\"salary\"][\"from\"])\n",
    "    result_row[job_title] = {\n",
    "        \"Средняя зарплата.\": int(sum(mean_salary_by_region) / len(mean_salary_by_region)),\n",
    "        \"Количество вакансий в России.\": len(mean_salary_by_region) * 17.8125\n",
    "    }\n",
    "    return result_row"
   ]
  },
  {
   "cell_type": "code",
   "execution_count": 24,
   "metadata": {},
   "outputs": [
    {
     "data": {
      "text/plain": [
       "{'продавец': {'Средняя зарплата.': 39927,\n",
       "  'Количество вакансий в России.': 129897}}"
      ]
     },
     "execution_count": 24,
     "metadata": {},
     "output_type": "execute_result"
    }
   ],
   "source": [
    "jt = \"продавец\"\n",
    "get_count_vacancies(job_title=jt, regions=get_all_regions())"
   ]
  },
  {
   "cell_type": "code",
   "execution_count": 23,
   "metadata": {},
   "outputs": [],
   "source": [
    "user_agent = fake_useragent.UserAgent()\n",
    "data = requests.get(\n",
    "    url=\"https://omsk.rabota.ru/vacancy/?query=java&sort=relevance&all_regions=1\",\n",
    "    headers={\"user_agent\": user_agent.random} \n",
    ")"
   ]
  },
  {
   "cell_type": "code",
   "execution_count": null,
   "metadata": {},
   "outputs": [],
   "source": []
  },
  {
   "cell_type": "code",
   "execution_count": null,
   "metadata": {},
   "outputs": [],
   "source": []
  },
  {
   "cell_type": "code",
   "execution_count": null,
   "metadata": {},
   "outputs": [],
   "source": []
  }
 ],
 "metadata": {
  "kernelspec": {
   "display_name": "base",
   "language": "python",
   "name": "python3"
  },
  "language_info": {
   "codemirror_mode": {
    "name": "ipython",
    "version": 3
   },
   "file_extension": ".py",
   "mimetype": "text/x-python",
   "name": "python",
   "nbconvert_exporter": "python",
   "pygments_lexer": "ipython3",
   "version": "3.10.8"
  },
  "orig_nbformat": 4
 },
 "nbformat": 4,
 "nbformat_minor": 2
}
