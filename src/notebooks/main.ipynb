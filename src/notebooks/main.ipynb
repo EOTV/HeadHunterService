{
 "cells": [
  {
   "cell_type": "code",
   "execution_count": 3,
   "metadata": {},
   "outputs": [],
   "source": [
    "import requests\n",
    "import fake_useragent\n",
    "from typing import List\n",
    "import pandas as pd\n",
    "import  numpy as np\n",
    "\n",
    "import time\n",
    "\n",
    "from selenium import webdriver\n",
    "from selenium.webdriver.support.ui import WebDriverWait\n",
    "from selenium.webdriver.support import expected_conditions as EC\n",
    "from selenium.webdriver.common.by import By\n",
    "from selenium.webdriver.chrome.service import Service\n",
    "from webdriver_manager.chrome import ChromeDriverManager\n",
    "\n",
    "import re"
   ]
  },
  {
   "attachments": {},
   "cell_type": "markdown",
   "metadata": {},
   "source": [
    "## Загрузка данных"
   ]
  },
  {
   "cell_type": "code",
   "execution_count": 25,
   "metadata": {},
   "outputs": [],
   "source": [
    "profs = pd.read_csv(\"../repositories/proffesions.csv\").values"
   ]
  },
  {
   "cell_type": "code",
   "execution_count": 33,
   "metadata": {},
   "outputs": [
    {
     "name": "stderr",
     "output_type": "stream",
     "text": [
      "/var/folders/ln/l54hjc713kxgxkw6rfxxgyh00000gn/T/ipykernel_1451/3722622066.py:1: DeprecationWarning: executable_path has been deprecated, please pass in a Service object\n",
      "  driver = webdriver.Firefox(executable_path='./repositories/geckodriver')\n"
     ]
    }
   ],
   "source": [
    "driver = webdriver.Firefox(executable_path='./repositories/geckodriver')\n",
    "oprions = webdriver.Firefox()\n",
    "\n",
    "\n",
    "def get_info_by_vacancies(\n",
    "        job_title: str, \n",
    "        driver\n",
    "    ) -> dict[str, dict[str, int]]:\n",
    "    \"\"\"\n",
    "    Функция принимающая на вход профессию, и список всех регионов в России.\n",
    "    Возвращает: {\n",
    "        \"job_title\": {\n",
    "            \"mean_salary\": int,\n",
    "            \"count_vacancies\": int\n",
    "    }}\n",
    "    \"\"\"\n",
    "    def get_all_regions() -> List[str]:\n",
    "        \"\"\"\n",
    "        Функция возвращающая, номера всех регионов в России.\n",
    "        \"\"\"\n",
    "        user_agent = fake_useragent.UserAgent()\n",
    "        regions = requests.get(\n",
    "            url=\"https://api.hh.ru/areas/113\",\n",
    "            headers={\"user_agent\": user_agent.random}\n",
    "        ).json()\n",
    "        return [int(region[\"id\"]) for region in regions[\"areas\"]]\n",
    "    \n",
    "    def get_count_vacancies(job_title: str) -> int:\n",
    "        url = fr'https://hh.ru/search/vacancy?text={job_title}'\n",
    "        driver.get(url)\n",
    "\n",
    "        el = driver.find_element(By.XPATH, \"//h1[@data-qa='bloko-header-3']\")\n",
    "        return int(''.join(re.findall(r'\\d+', el.text)))\n",
    "    \n",
    "    user_agent = fake_useragent.UserAgent()\n",
    "    mean_salary_by_region = []\n",
    "\n",
    "    result_row = {}\n",
    "\n",
    "    regions = get_all_regions()\n",
    "    for region in regions:\n",
    "        url = f\"https://api.hh.ru/vacancies?clusters=true&only_with_salary=true&enable_snippets=true&st=searchVacancy' \\\n",
    "            '&text={job_title}&search_field=name&per_page=100&area={region}\"\n",
    "        \n",
    "        headers = requests.utils.default_headers()\n",
    "        headers.update({\"User-Agent\": user_agent.random})\n",
    "        vacancies = requests.get(\n",
    "            url=url,\n",
    "            headers=headers                   \n",
    "        ).json()\n",
    "\n",
    "        for vacancy in vacancies[\"items\"]:\n",
    "            if vacancy[\"salary\"][\"from\"] is None:\n",
    "                continue\n",
    "    mean_salary_by_region.append(vacancy[\"salary\"][\"from\"])\n",
    "    result_row[job_title] = {\n",
    "        \"Средняя зарплата.\": mean_salary_by_region,\n",
    "        \"Количество вакансий в России.\": get_count_vacancies(job_title=job_title)\n",
    "    }\n",
    "    return result_row"
   ]
  },
  {
   "cell_type": "code",
   "execution_count": 34,
   "metadata": {},
   "outputs": [
    {
     "ename": "UnboundLocalError",
     "evalue": "local variable 'vacancy' referenced before assignment",
     "output_type": "error",
     "traceback": [
      "\u001b[0;31m---------------------------------------------------------------------------\u001b[0m",
      "\u001b[0;31mUnboundLocalError\u001b[0m                         Traceback (most recent call last)",
      "Cell \u001b[0;32mIn[34], line 2\u001b[0m\n\u001b[1;32m      1\u001b[0m \u001b[39mfor\u001b[39;00m prof \u001b[39min\u001b[39;00m profs[:\u001b[39m10\u001b[39m]:\n\u001b[0;32m----> 2\u001b[0m     \u001b[39mprint\u001b[39m(get_info_by_vacancies(job_title\u001b[39m=\u001b[39;49mprof, driver\u001b[39m=\u001b[39;49mdriver))\n",
      "Cell \u001b[0;32mIn[33], line 55\u001b[0m, in \u001b[0;36mget_info_by_vacancies\u001b[0;34m(job_title, driver)\u001b[0m\n\u001b[1;32m     53\u001b[0m         \u001b[39mif\u001b[39;00m vacancy[\u001b[39m\"\u001b[39m\u001b[39msalary\u001b[39m\u001b[39m\"\u001b[39m][\u001b[39m\"\u001b[39m\u001b[39mfrom\u001b[39m\u001b[39m\"\u001b[39m] \u001b[39mis\u001b[39;00m \u001b[39mNone\u001b[39;00m:\n\u001b[1;32m     54\u001b[0m             \u001b[39mcontinue\u001b[39;00m\n\u001b[0;32m---> 55\u001b[0m mean_salary_by_region\u001b[39m.\u001b[39mappend(vacancy[\u001b[39m\"\u001b[39m\u001b[39msalary\u001b[39m\u001b[39m\"\u001b[39m][\u001b[39m\"\u001b[39m\u001b[39mfrom\u001b[39m\u001b[39m\"\u001b[39m])\n\u001b[1;32m     56\u001b[0m result_row[job_title] \u001b[39m=\u001b[39m {\n\u001b[1;32m     57\u001b[0m     \u001b[39m\"\u001b[39m\u001b[39mСредняя зарплата.\u001b[39m\u001b[39m\"\u001b[39m: mean_salary_by_region,\n\u001b[1;32m     58\u001b[0m     \u001b[39m\"\u001b[39m\u001b[39mКоличество вакансий в России.\u001b[39m\u001b[39m\"\u001b[39m: get_count_vacancies(job_title\u001b[39m=\u001b[39mjob_title)\n\u001b[1;32m     59\u001b[0m }\n\u001b[1;32m     60\u001b[0m \u001b[39mreturn\u001b[39;00m result_row\n",
      "\u001b[0;31mUnboundLocalError\u001b[0m: local variable 'vacancy' referenced before assignment"
     ]
    }
   ],
   "source": [
    "for prof in profs[:10]:\n",
    "    print(get_info_by_vacancies(job_title=prof, driver=driver))"
   ]
  },
  {
   "cell_type": "code",
   "execution_count": null,
   "metadata": {},
   "outputs": [],
   "source": []
  },
  {
   "cell_type": "code",
   "execution_count": null,
   "metadata": {},
   "outputs": [],
   "source": []
  }
 ],
 "metadata": {
  "kernelspec": {
   "display_name": "base",
   "language": "python",
   "name": "python3"
  },
  "language_info": {
   "codemirror_mode": {
    "name": "ipython",
    "version": 3
   },
   "file_extension": ".py",
   "mimetype": "text/x-python",
   "name": "python",
   "nbconvert_exporter": "python",
   "pygments_lexer": "ipython3",
   "version": "3.10.8"
  },
  "orig_nbformat": 4
 },
 "nbformat": 4,
 "nbformat_minor": 2
}
