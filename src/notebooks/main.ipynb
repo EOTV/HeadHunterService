{
 "cells": [
  {
   "cell_type": "code",
   "execution_count": 2,
   "metadata": {},
   "outputs": [],
   "source": [
    "import requests\n",
    "import fake_useragent\n",
    "from typing import List\n",
    "import pandas as pd\n",
    "import  numpy as np\n",
    "\n",
    "import time\n",
    "\n",
    "from selenium import webdriver\n",
    "from selenium.webdriver.support.ui import WebDriverWait\n",
    "from selenium.webdriver.support import expected_conditions as EC\n",
    "from selenium.webdriver.common.by import By\n",
    "from selenium.webdriver.chrome.service import Service\n",
    "from webdriver_manager.chrome import ChromeDriverManager\n",
    "\n",
    "import re"
   ]
  },
  {
   "attachments": {},
   "cell_type": "markdown",
   "metadata": {},
   "source": [
    "## Загрузка данных"
   ]
  },
  {
   "cell_type": "code",
   "execution_count": 2,
   "metadata": {},
   "outputs": [],
   "source": [
    "def get_all_regions() -> List[str]:\n",
    "    user_agent = fake_useragent.UserAgent()\n",
    "    regions = requests.get(\n",
    "        url=\"https://api.hh.ru/areas\",\n",
    "        headers={\"user_agent\": user_agent.random}\n",
    "    ).json()\n",
    "    return [str(region[\"id\"]) for region in regions[0][\"areas\"]]"
   ]
  },
  {
   "cell_type": "code",
   "execution_count": 3,
   "metadata": {},
   "outputs": [],
   "source": [
    "def get_count_vacancies(job_title: str, regions: List[str]) -> dict[str, dict[str, int]]:\n",
    "    user_agent = fake_useragent.UserAgent()\n",
    "    mean_salary_by_region = []\n",
    "    result_row = {}\n",
    "    for region in regions:\n",
    "        url = f\"https://api.hh.ru/vacancies?clusters=true&only_with_salary=true&enable_snippets=true&st=searchVacancy' \\\n",
    "            '&text={job_title}&search_field=name&area={region}\"\n",
    "        vacancies = requests.get(\n",
    "            url=url,\n",
    "            headers={\"user_agent\": user_agent.random}                    \n",
    "        ).json()\n",
    "        if \"items\" in vacancies.keys():\n",
    "            for vacancy in vacancies[\"items\"]:\n",
    "                if vacancy[\"salary\"][\"from\"] is None:\n",
    "                    continue\n",
    "                mean_salary_by_region.append(vacancy[\"salary\"][\"from\"])\n",
    "        else:\n",
    "            continue\n",
    "    result_row[job_title] = {\n",
    "        \"Средняя зарплата.\": int(sum(mean_salary_by_region) / len(mean_salary_by_region)),\n",
    "        \"Количество вакансий в России.\": len(mean_salary_by_region) * 43\n",
    "    }\n",
    "    return result_row"
   ]
  },
  {
   "cell_type": "code",
   "execution_count": 4,
   "metadata": {},
   "outputs": [],
   "source": [
    "profs = pd.read_csv(\"../repositories/proffesions.csv\")"
   ]
  },
  {
   "cell_type": "code",
   "execution_count": 24,
   "metadata": {},
   "outputs": [],
   "source": [
    "options = webdriver.Firefox()\n",
    "driver = webdriver.Firefox(executable_path='geckodriver')\n",
    "\n",
    "def get_count_vacancies(job_title: str):\n",
    "    URL = fr'https://hh.ru/search/vacancy?text={job_title}'\n",
    "\n",
    "    #service = Service(executable_path='chromedriver')\n",
    "    #driver = webdriver.Chrome(service=service)\n",
    "\n",
    "    driver.get(URL)\n",
    "\n",
    "    el = driver.find_element(By.XPATH, \"//h1[@data-qa='bloko-header-3']\")\n",
    "    return int(''.join(re.findall(r'\\d+', el.text)))"
   ]
  },
  {
   "cell_type": "code",
   "execution_count": 25,
   "metadata": {},
   "outputs": [],
   "source": [
    "profs = pd.read_csv('../repositories/proffesions.csv')"
   ]
  },
  {
   "cell_type": "code",
   "execution_count": 27,
   "metadata": {},
   "outputs": [
    {
     "name": "stdout",
     "output_type": "stream",
     "text": [
      "612\n"
     ]
    }
   ],
   "source": [
    "for prof in profs[:1][\"prof_name\"].values:\n",
    "    print(get_count_vacancies(job_title=prof))"
   ]
  },
  {
   "cell_type": "code",
   "execution_count": 21,
   "metadata": {},
   "outputs": [
    {
     "name": "stderr",
     "output_type": "stream",
     "text": [
      "/var/folders/ln/l54hjc713kxgxkw6rfxxgyh00000gn/T/ipykernel_72764/3979087448.py:1: DeprecationWarning: executable_path has been deprecated, please pass in a Service object\n",
      "  driver = webdriver.Firefox(executable_path='./repositories/geckodriver')\n"
     ]
    }
   ],
   "source": [
    "driver = webdriver.Firefox(executable_path='./repositories/geckodriver')\n",
    "oprions = webdriver.Firefox()\n",
    "\n",
    "def get_info_by_vacancies(\n",
    "        job_title: str,\n",
    "        driver\n",
    "    ) -> dict[str, dict[str, int]]:\n",
    "    \"\"\"\n",
    "    Функция принимающая на вход профессию, и список всех регионов в России.\n",
    "    Возвращает: {\n",
    "        \"job_title\": {\n",
    "            \"mean_salary\": int,\n",
    "            \"count_vacancies\": int\n",
    "    }}\n",
    "    \"\"\"\n",
    "    def get_all_regions() -> List[str]:\n",
    "        \"\"\"\n",
    "        Функция возвращающая, номера всех регионов в России.\n",
    "        \"\"\"\n",
    "        user_agent = fake_useragent.UserAgent()\n",
    "        regions = requests.get(\n",
    "            url=\"https://api.hh.ru/areas\",\n",
    "            headers={\"user_agent\": user_agent.random}\n",
    "        ).json()\n",
    "        return [str(region[\"id\"]) for region in regions[0][\"areas\"]]\n",
    "    \n",
    "    def get_count_vacancies(job_title: str) -> int:\n",
    "        url = fr'https://hh.ru/search/vacancy?text={job_title}'\n",
    "        time.sleep(3)\n",
    "        driver.get(url)\n",
    "\n",
    "        el = driver.find_element(By.XPATH, \"//h1[@data-qa='bloko-header-3']\")\n",
    "        return int(''.join(re.findall(r'\\d+', el.text)))\n",
    "    \n",
    "    user_agent = fake_useragent.UserAgent()\n",
    "    mean_salary_by_region = []\n",
    "\n",
    "    result_row = {}\n",
    "    for region in get_all_regions():\n",
    "        url = f\"https://api.hh.ru/vacancies?clusters=true&only_with_salary=true&enable_snippets=true&st=searchVacancy' \\\n",
    "            '&text={job_title}&search_field=name&per_page=100&area={region}\"\n",
    "        \n",
    "        vacancies = requests.get(\n",
    "            url=url,\n",
    "            headers={\"user_agent\": user_agent.random}                    \n",
    "        ).json()\n",
    "\n",
    "        for vacancy in vacancies[\"items\"]:\n",
    "            if vacancy[\"salary\"][\"from\"] is None:\n",
    "                continue\n",
    "            mean_salary_by_region.append(vacancy[\"salary\"][\"from\"])\n",
    "            \n",
    "    result_row[job_title] = {\n",
    "        \"Средняя зарплата.\": int(sum(mean_salary_by_region) / len(mean_salary_by_region)),\n",
    "        \"Количество вакансий в России.\": get_count_vacancies(job_title=job_title)\n",
    "    }\n",
    "    return result_row"
   ]
  },
  {
   "cell_type": "code",
   "execution_count": 22,
   "metadata": {},
   "outputs": [
    {
     "ename": "WebDriverException",
     "evalue": "Message: Failed to decode response from marionette\n",
     "output_type": "error",
     "traceback": [
      "\u001b[0;31m---------------------------------------------------------------------------\u001b[0m",
      "\u001b[0;31mWebDriverException\u001b[0m                        Traceback (most recent call last)",
      "Cell \u001b[0;32mIn[22], line 1\u001b[0m\n\u001b[0;32m----> 1\u001b[0m get_info_by_vacancies(\u001b[39m\"\u001b[39;49m\u001b[39mR-разработчик\u001b[39;49m\u001b[39m\"\u001b[39;49m)\n",
      "Cell \u001b[0;32mIn[21], line 54\u001b[0m, in \u001b[0;36mget_info_by_vacancies\u001b[0;34m(job_title)\u001b[0m\n\u001b[1;32m     49\u001b[0m             \u001b[39mcontinue\u001b[39;00m\n\u001b[1;32m     50\u001b[0m         mean_salary_by_region\u001b[39m.\u001b[39mappend(vacancy[\u001b[39m\"\u001b[39m\u001b[39msalary\u001b[39m\u001b[39m\"\u001b[39m][\u001b[39m\"\u001b[39m\u001b[39mfrom\u001b[39m\u001b[39m\"\u001b[39m])\n\u001b[1;32m     52\u001b[0m result_row[job_title] \u001b[39m=\u001b[39m {\n\u001b[1;32m     53\u001b[0m     \u001b[39m\"\u001b[39m\u001b[39mСредняя зарплата.\u001b[39m\u001b[39m\"\u001b[39m: \u001b[39mint\u001b[39m(\u001b[39msum\u001b[39m(mean_salary_by_region) \u001b[39m/\u001b[39m \u001b[39mlen\u001b[39m(mean_salary_by_region)),\n\u001b[0;32m---> 54\u001b[0m     \u001b[39m\"\u001b[39m\u001b[39mКоличество вакансий в России.\u001b[39m\u001b[39m\"\u001b[39m: get_count_vacancies(job_title\u001b[39m=\u001b[39;49mjob_title)\n\u001b[1;32m     55\u001b[0m }\n\u001b[1;32m     56\u001b[0m \u001b[39mreturn\u001b[39;00m result_row\n",
      "Cell \u001b[0;32mIn[21], line 29\u001b[0m, in \u001b[0;36mget_info_by_vacancies.<locals>.get_count_vacancies\u001b[0;34m(job_title)\u001b[0m\n\u001b[1;32m     27\u001b[0m url \u001b[39m=\u001b[39m \u001b[39mfr\u001b[39m\u001b[39m'\u001b[39m\u001b[39mhttps://hh.ru/search/vacancy?text=\u001b[39m\u001b[39m{\u001b[39;00mjob_title\u001b[39m}\u001b[39;00m\u001b[39m'\u001b[39m\n\u001b[1;32m     28\u001b[0m time\u001b[39m.\u001b[39msleep(\u001b[39m3\u001b[39m)\n\u001b[0;32m---> 29\u001b[0m driver\u001b[39m.\u001b[39;49mget(url)\n\u001b[1;32m     31\u001b[0m el \u001b[39m=\u001b[39m driver\u001b[39m.\u001b[39mfind_element(By\u001b[39m.\u001b[39mXPATH, \u001b[39m\"\u001b[39m\u001b[39m//h1[@data-qa=\u001b[39m\u001b[39m'\u001b[39m\u001b[39mbloko-header-3\u001b[39m\u001b[39m'\u001b[39m\u001b[39m]\u001b[39m\u001b[39m\"\u001b[39m)\n\u001b[1;32m     32\u001b[0m \u001b[39mreturn\u001b[39;00m \u001b[39mint\u001b[39m(\u001b[39m'\u001b[39m\u001b[39m'\u001b[39m\u001b[39m.\u001b[39mjoin(re\u001b[39m.\u001b[39mfindall(\u001b[39mr\u001b[39m\u001b[39m'\u001b[39m\u001b[39m\\\u001b[39m\u001b[39md+\u001b[39m\u001b[39m'\u001b[39m, el\u001b[39m.\u001b[39mtext)))\n",
      "File \u001b[0;32m~/anaconda3/lib/python3.10/site-packages/selenium/webdriver/remote/webdriver.py:449\u001b[0m, in \u001b[0;36mWebDriver.get\u001b[0;34m(self, url)\u001b[0m\n\u001b[1;32m    447\u001b[0m \u001b[39mdef\u001b[39;00m \u001b[39mget\u001b[39m(\u001b[39mself\u001b[39m, url: \u001b[39mstr\u001b[39m) \u001b[39m-\u001b[39m\u001b[39m>\u001b[39m \u001b[39mNone\u001b[39;00m:\n\u001b[1;32m    448\u001b[0m     \u001b[39m\"\"\"Loads a web page in the current browser session.\"\"\"\u001b[39;00m\n\u001b[0;32m--> 449\u001b[0m     \u001b[39mself\u001b[39;49m\u001b[39m.\u001b[39;49mexecute(Command\u001b[39m.\u001b[39;49mGET, {\u001b[39m\"\u001b[39;49m\u001b[39murl\u001b[39;49m\u001b[39m\"\u001b[39;49m: url})\n",
      "File \u001b[0;32m~/anaconda3/lib/python3.10/site-packages/selenium/webdriver/remote/webdriver.py:440\u001b[0m, in \u001b[0;36mWebDriver.execute\u001b[0;34m(self, driver_command, params)\u001b[0m\n\u001b[1;32m    438\u001b[0m response \u001b[39m=\u001b[39m \u001b[39mself\u001b[39m\u001b[39m.\u001b[39mcommand_executor\u001b[39m.\u001b[39mexecute(driver_command, params)\n\u001b[1;32m    439\u001b[0m \u001b[39mif\u001b[39;00m response:\n\u001b[0;32m--> 440\u001b[0m     \u001b[39mself\u001b[39;49m\u001b[39m.\u001b[39;49merror_handler\u001b[39m.\u001b[39;49mcheck_response(response)\n\u001b[1;32m    441\u001b[0m     response[\u001b[39m\"\u001b[39m\u001b[39mvalue\u001b[39m\u001b[39m\"\u001b[39m] \u001b[39m=\u001b[39m \u001b[39mself\u001b[39m\u001b[39m.\u001b[39m_unwrap_value(response\u001b[39m.\u001b[39mget(\u001b[39m\"\u001b[39m\u001b[39mvalue\u001b[39m\u001b[39m\"\u001b[39m, \u001b[39mNone\u001b[39;00m))\n\u001b[1;32m    442\u001b[0m     \u001b[39mreturn\u001b[39;00m response\n",
      "File \u001b[0;32m~/anaconda3/lib/python3.10/site-packages/selenium/webdriver/remote/errorhandler.py:245\u001b[0m, in \u001b[0;36mErrorHandler.check_response\u001b[0;34m(self, response)\u001b[0m\n\u001b[1;32m    243\u001b[0m         alert_text \u001b[39m=\u001b[39m value[\u001b[39m\"\u001b[39m\u001b[39malert\u001b[39m\u001b[39m\"\u001b[39m]\u001b[39m.\u001b[39mget(\u001b[39m\"\u001b[39m\u001b[39mtext\u001b[39m\u001b[39m\"\u001b[39m)\n\u001b[1;32m    244\u001b[0m     \u001b[39mraise\u001b[39;00m exception_class(message, screen, stacktrace, alert_text)  \u001b[39m# type: ignore[call-arg]  # mypy is not smart enough here\u001b[39;00m\n\u001b[0;32m--> 245\u001b[0m \u001b[39mraise\u001b[39;00m exception_class(message, screen, stacktrace)\n",
      "\u001b[0;31mWebDriverException\u001b[0m: Message: Failed to decode response from marionette\n"
     ]
    }
   ],
   "source": [
    "get_info_by_vacancies(\"R-разработчик\")"
   ]
  },
  {
   "cell_type": "code",
   "execution_count": null,
   "metadata": {},
   "outputs": [],
   "source": []
  },
  {
   "cell_type": "code",
   "execution_count": 5,
   "metadata": {},
   "outputs": [],
   "source": [
    "def get_all_regions() -> List[str]:\n",
    "    \"\"\"\n",
    "    Функция возвращающая, номера всех регионов в России.\n",
    "    \"\"\"\n",
    "    user_agent = fake_useragent.UserAgent()\n",
    "    regions = requests.get(\n",
    "        url=\"https://api.hh.ru/areas\",\n",
    "        headers={\"user_agent\": user_agent.random}\n",
    "    ).json()\n",
    "    return [str(region[\"id\"]) for region in regions[0][\"areas\"]]"
   ]
  },
  {
   "cell_type": "code",
   "execution_count": 6,
   "metadata": {},
   "outputs": [
    {
     "data": {
      "text/plain": [
       "['1620',\n",
       " '1624',\n",
       " '1646',\n",
       " '1652',\n",
       " '1192',\n",
       " '1124',\n",
       " '1146',\n",
       " '1118',\n",
       " '1174',\n",
       " '1169',\n",
       " '1187',\n",
       " '1661',\n",
       " '1679',\n",
       " '1704',\n",
       " '2134',\n",
       " '1217',\n",
       " '1229',\n",
       " '1202',\n",
       " '1249',\n",
       " '1216',\n",
       " '1255',\n",
       " '1',\n",
       " '2019',\n",
       " '1932',\n",
       " '1941',\n",
       " '1943',\n",
       " '1946',\n",
       " '1948',\n",
       " '1960',\n",
       " '1975',\n",
       " '1982',\n",
       " '2155',\n",
       " '1008',\n",
       " '1020',\n",
       " '145',\n",
       " '1061',\n",
       " '1985',\n",
       " '1051',\n",
       " '1090',\n",
       " '1077',\n",
       " '1041',\n",
       " '2',\n",
       " '1103',\n",
       " '1716',\n",
       " '1739',\n",
       " '1754',\n",
       " '1771',\n",
       " '1783',\n",
       " '1806',\n",
       " '1563',\n",
       " '1575',\n",
       " '1556',\n",
       " '1586',\n",
       " '1596',\n",
       " '1614',\n",
       " '1308',\n",
       " '1317',\n",
       " '1347',\n",
       " '1261',\n",
       " '1342',\n",
       " '1368',\n",
       " '1384',\n",
       " '1414',\n",
       " '1463',\n",
       " '1471',\n",
       " '1438',\n",
       " '1422',\n",
       " '1424',\n",
       " '1434',\n",
       " '1475',\n",
       " '1481',\n",
       " '1500',\n",
       " '2173',\n",
       " '1817',\n",
       " '1828',\n",
       " '1844',\n",
       " '1859',\n",
       " '1880',\n",
       " '1890',\n",
       " '1898',\n",
       " '1905',\n",
       " '1913',\n",
       " '1505',\n",
       " '1511',\n",
       " '1553',\n",
       " '2114',\n",
       " '1530',\n",
       " '2209']"
      ]
     },
     "execution_count": 6,
     "metadata": {},
     "output_type": "execute_result"
    }
   ],
   "source": [
    "get_all_regions()"
   ]
  },
  {
   "cell_type": "code",
   "execution_count": null,
   "metadata": {},
   "outputs": [],
   "source": []
  }
 ],
 "metadata": {
  "kernelspec": {
   "display_name": "base",
   "language": "python",
   "name": "python3"
  },
  "language_info": {
   "codemirror_mode": {
    "name": "ipython",
    "version": 3
   },
   "file_extension": ".py",
   "mimetype": "text/x-python",
   "name": "python",
   "nbconvert_exporter": "python",
   "pygments_lexer": "ipython3",
   "version": "3.10.8"
  },
  "orig_nbformat": 4
 },
 "nbformat": 4,
 "nbformat_minor": 2
}
